{
 "cells": [
  {
   "cell_type": "code",
   "execution_count": 3,
   "id": "5d522f0a",
   "metadata": {},
   "outputs": [],
   "source": [
    "horas = 5"
   ]
  },
  {
   "cell_type": "code",
   "execution_count": 4,
   "id": "1d46d3a2",
   "metadata": {},
   "outputs": [
    {
     "name": "stdout",
     "output_type": "stream",
     "text": [
      "Importe a pagar \n",
      "8\n"
     ]
    }
   ],
   "source": [
    "if horas > 4:\n",
    "    extra =2*(horas -4)\n",
    "    costototal= 6 + extra\n",
    "else:\n",
    "    costototal=6\n",
    "print (\"Importe a pagar \")\n",
    "print (costototal)"
   ]
  },
  {
   "cell_type": "code",
   "execution_count": null,
   "id": "6df2d685",
   "metadata": {},
   "outputs": [],
   "source": []
  }
 ],
 "metadata": {
  "kernelspec": {
   "display_name": "Python 3 (ipykernel)",
   "language": "python",
   "name": "python3"
  },
  "language_info": {
   "codemirror_mode": {
    "name": "ipython",
    "version": 3
   },
   "file_extension": ".py",
   "mimetype": "text/x-python",
   "name": "python",
   "nbconvert_exporter": "python",
   "pygments_lexer": "ipython3",
   "version": "3.9.12"
  }
 },
 "nbformat": 4,
 "nbformat_minor": 5
}
