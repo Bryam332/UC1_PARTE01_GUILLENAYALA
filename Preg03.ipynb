{
 "cells": [
  {
   "cell_type": "code",
   "execution_count": 1,
   "id": "a67b5d0b",
   "metadata": {},
   "outputs": [],
   "source": [
    "horas = 5"
   ]
  },
  {
   "cell_type": "code",
   "execution_count": null,
   "id": "c603554d",
   "metadata": {},
   "outputs": [],
   "source": [
    "if horas > 4:\n",
    "extra =2*(horas -4)\n",
    "costototal= 6 + extra\n",
    "else:\n",
    "    costototal=6\n",
    "print ()"
   ]
  }
 ],
 "metadata": {
  "kernelspec": {
   "display_name": "Python 3 (ipykernel)",
   "language": "python",
   "name": "python3"
  },
  "language_info": {
   "codemirror_mode": {
    "name": "ipython",
    "version": 3
   },
   "file_extension": ".py",
   "mimetype": "text/x-python",
   "name": "python",
   "nbconvert_exporter": "python",
   "pygments_lexer": "ipython3",
   "version": "3.9.12"
  }
 },
 "nbformat": 4,
 "nbformat_minor": 5
}
