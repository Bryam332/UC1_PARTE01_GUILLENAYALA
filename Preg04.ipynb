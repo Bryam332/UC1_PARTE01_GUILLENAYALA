{
 "cells": [
  {
   "cell_type": "code",
   "execution_count": 1,
   "id": "05f7f36a",
   "metadata": {},
   "outputs": [],
   "source": [
    "ganancia=10000"
   ]
  },
  {
   "cell_type": "code",
   "execution_count": 2,
   "id": "83467d02",
   "metadata": {},
   "outputs": [
    {
     "name": "stdout",
     "output_type": "stream",
     "text": [
      "Ganancia\n",
      "10000\n",
      "Donacion\n",
      "1500.0\n"
     ]
    }
   ],
   "source": [
    "if 0<=ganancia<=1000:\n",
    "    donacion=0.05*ganancia\n",
    "if 1000<ganancia<=1500:\n",
    "    donacion=0.07*ganancia\n",
    "if 1500<ganancia<=2000:\n",
    "    donacion=0.08*ganancia\n",
    "if 2000<ganancia<=5000:\n",
    "    donacion=0.1*ganancia\n",
    "if 5000<ganancia:\n",
    "    donacion=0.15*ganancia\n",
    "print(\"Ganancia\")\n",
    "print(ganancia)\n",
    "print(\"Donacion\")\n",
    "print(donacion)"
   ]
  },
  {
   "cell_type": "code",
   "execution_count": null,
   "id": "bed45d86",
   "metadata": {},
   "outputs": [],
   "source": []
  }
 ],
 "metadata": {
  "kernelspec": {
   "display_name": "Python 3 (ipykernel)",
   "language": "python",
   "name": "python3"
  },
  "language_info": {
   "codemirror_mode": {
    "name": "ipython",
    "version": 3
   },
   "file_extension": ".py",
   "mimetype": "text/x-python",
   "name": "python",
   "nbconvert_exporter": "python",
   "pygments_lexer": "ipython3",
   "version": "3.9.12"
  }
 },
 "nbformat": 4,
 "nbformat_minor": 5
}
